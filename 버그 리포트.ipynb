{
 "cells": [
  {
   "cell_type": "markdown",
   "metadata": {},
   "source": [
    "# 해결된 버그"
   ]
  },
  {
   "cell_type": "markdown",
   "metadata": {},
   "source": [
    "## Nginx"
   ]
  },
  {
   "cell_type": "markdown",
   "metadata": {},
   "source": [
    "### Q. Nginx에서 javascript나 이미지파일, css가 안불러와진다"
   ]
  },
  {
   "cell_type": "markdown",
   "metadata": {},
   "source": [
    "A. /etc/nginx/sites-available/default의 sever 내부에 location ~*.확장자로 경로를 지정한다"
   ]
  },
  {
   "cell_type": "code",
   "execution_count": null,
   "metadata": {
    "vscode": {
     "languageId": "plaintext"
    }
   },
   "outputs": [],
   "source": [
    "server_name 43.202.61.123;\n",
    "\n",
    "location / {\n",
    "    root /home/chicken/ChatGPT-DRF-FE/HTML;\n",
    "    index main.html;\n",
    "}\n",
    "\n",
    "location ~* \\.(js|css|gif|png|jpg|jpeg|webp|svg|ico)$ {\n",
    "    root /home/chicken/ChatGPT-DRF-FE;\n",
    "}"
   ]
  },
  {
   "cell_type": "markdown",
   "metadata": {},
   "source": [
    "### Q. 주소 매핑하는법"
   ]
  },
  {
   "cell_type": "markdown",
   "metadata": {},
   "source": [
    "A. location에 주소매핑을 추가하고 root대신 alias로 폴더명을 지정한다."
   ]
  },
  {
   "cell_type": "code",
   "execution_count": null,
   "metadata": {
    "vscode": {
     "languageId": "plaintext"
    }
   },
   "outputs": [],
   "source": [
    "location /accounts/login {\n",
    "    alias /home/chicken/ChatGPT-DRF-FE/HTML;\n",
    "    index login.html;\n",
    "}\n",
    "\n",
    "location /accounts/register {\n",
    "    alias /home/chicken/ChatGPT-DRF-FE/HTML;\n",
    "    index register.html;\n",
    "}\n",
    "\n",
    "location /accounts/logout {\n",
    "    alias /home/chicken/ChatGPT-DRF-FE/HTML;\n",
    "    index logout.html;\n",
    "}\n",
    "\n",
    "location /quiz {\n",
    "    alias /home/chicken/ChatGPT-DRF-FE/HTML;\n",
    "    index quiz.html;\n",
    "}"
   ]
  },
  {
   "cell_type": "markdown",
   "metadata": {},
   "source": [
    "### Q. 403 Forbidden"
   ]
  },
  {
   "cell_type": "markdown",
   "metadata": {},
   "source": [
    "A. 권한 문제이다. 이번에는 가장 위의 사용자폴더의 권한을 755로 변경해주어서 해결했다."
   ]
  },
  {
   "cell_type": "markdown",
   "metadata": {},
   "source": [
    "## JavaScript"
   ]
  },
  {
   "cell_type": "markdown",
   "metadata": {},
   "source": [
    "### Q. Javascript에서 html 임포트하는법"
   ]
  },
  {
   "cell_type": "markdown",
   "metadata": {},
   "source": [
    "A. Javascript를 이용해 임포트했다."
   ]
  },
  {
   "cell_type": "code",
   "execution_count": null,
   "metadata": {
    "vscode": {
     "languageId": "javascript"
    }
   },
   "outputs": [],
   "source": [
    "(function () {\n",
    "    function includeHtml() {\n",
    "        const includeTarget = document.querySelectorAll(\".includeJs\");\n",
    "        includeTarget.forEach(function (el, idx) {\n",
    "            const targetFile = el.dataset.includeFile;\n",
    "            if (targetFile) {\n",
    "                let xhttp = new XMLHttpRequest();\n",
    "\n",
    "                xhttp.onreadystatechange = function () {\n",
    "                    if (this.readyState === XMLHttpRequest.DONE) {\n",
    "                        this.status === 200 ? (el.innerHTML = this.responseText) : null;\n",
    "                        this.status === 404 ? (el.innerHTML = \"include not found.\") : null;\n",
    "                    }\n",
    "                };\n",
    "                xhttp.open(\"GET\", targetFile, true);\n",
    "                xhttp.send();\n",
    "                return;\n",
    "            }\n",
    "        });\n",
    "    }\n",
    "\n",
    "    includeHtml();\n",
    "})();"
   ]
  },
  {
   "cell_type": "markdown",
   "metadata": {},
   "source": [
    "## DJn"
   ]
  },
  {
   "cell_type": "markdown",
   "metadata": {},
   "source": [
    "## Q. type object 'UserCreateAPIView' has no attribute 'get_extra_actions'"
   ]
  },
  {
   "cell_type": "markdown",
   "metadata": {},
   "source": [
    "### A. router = DefaultRouter() 대신 views.UserCreateAPIView.as_view()로 매핑한다"
   ]
  },
  {
   "cell_type": "markdown",
   "metadata": {},
   "source": [
    "## Q. 비밀번호 해싱 오류"
   ]
  },
  {
   "cell_type": "markdown",
   "metadata": {},
   "source": [
    "### A. serializers에서 create함수를 만들어서 password를 바꾸면 된다."
   ]
  },
  {
   "cell_type": "code",
   "execution_count": null,
   "metadata": {},
   "outputs": [],
   "source": [
    "def create(self, validated_data):\n",
    "    '''\n",
    "    직렬화할떄 비밀번호를 해싱하는작업.\n",
    "    '''\n",
    "    user = super().create(validated_data)\n",
    "    user.set_password(validated_data['password'])\n",
    "    user.save()\n",
    "    return user"
   ]
  },
  {
   "cell_type": "markdown",
   "metadata": {},
   "source": [
    "## Q. User 커스텀 클래스에서 related_name를 요구한다"
   ]
  },
  {
   "cell_type": "code",
   "execution_count": null,
   "metadata": {
    "vscode": {
     "languageId": "plaintext"
    }
   },
   "outputs": [],
   "source": [
    "ERRORS:\n",
    "accounts.User.groups: (fields.E304) Reverse accessor 'Group.user_set' for 'accounts.User.groups' clashes with reverse accessor for 'auth.User.groups'.\n",
    "        HINT: Add or change a related_name argument to the definition for 'accounts.User.groups' or 'auth.User.groups'.\n",
    "accounts.User.user_permissions: (fields.E304) Reverse accessor 'Permission.user_set' for 'accounts.User.user_permissions' clashes with reverse accessor for 'auth.User.user_permissions'.\n",
    "        HINT: Add or change a related_name argument to the definition for 'accounts.User.user_permissions' or 'auth.User.user_permissions'.\n",
    "auth.User.groups: (fields.E304) Reverse accessor 'Group.user_set' for 'auth.User.groups' clashes with reverse accessor for 'accounts.User.groups'.\n",
    "        HINT: Add or change a related_name argument to the definition for 'auth.User.groups' or 'accounts.User.groups'.\n",
    "auth.User.user_permissions: (fields.E304) Reverse accessor 'Permission.user_set' for 'auth.User.user_permissions' clashes with reverse accessor for 'accounts.User.user_permissions'.\n",
    "        HINT: Add or change a related_name argument to the definition for 'auth.User.user_permissions' or 'accounts.User.user_permissions'."
   ]
  },
  {
   "cell_type": "markdown",
   "metadata": {},
   "source": [
    "### A. 새로 테이블을 만들어서 유저를 왜래키로 설정한다."
   ]
  },
  {
   "cell_type": "code",
   "execution_count": null,
   "metadata": {
    "vscode": {
     "languageId": "plaintext"
    }
   },
   "outputs": [],
   "source": [
    "아마 추측하기로는 settings.py에 이걸 추가하면 해결될 듯 싶다.\n",
    "AUTH_USER_MODEL = 'yourapp.CustomUser'"
   ]
  },
  {
   "cell_type": "code",
   "execution_count": null,
   "metadata": {},
   "outputs": [],
   "source": []
  }
 ],
 "metadata": {
  "language_info": {
   "name": "python"
  }
 },
 "nbformat": 4,
 "nbformat_minor": 2
}
