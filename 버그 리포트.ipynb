{
 "cells": [
  {
   "cell_type": "markdown",
   "metadata": {},
   "source": [
    "# 미해결 버그"
   ]
  },
  {
   "cell_type": "markdown",
   "metadata": {},
   "source": [
    "### Q. backend 토큰 무효화"
   ]
  },
  {
   "cell_type": "code",
   "execution_count": null,
   "metadata": {
    "vscode": {
     "languageId": "plaintext"
    }
   },
   "outputs": [],
   "source": [
    "간단히 말해 실패했다."
   ]
  },
  {
   "cell_type": "markdown",
   "metadata": {},
   "source": [
    "### Q. CSRF 토큰"
   ]
  },
  {
   "cell_type": "code",
   "execution_count": null,
   "metadata": {
    "vscode": {
     "languageId": "plaintext"
    }
   },
   "outputs": [],
   "source": [
    "무시하는 방향으로 해결했다."
   ]
  },
  {
   "cell_type": "markdown",
   "metadata": {},
   "source": [
    "# 해결된 버그"
   ]
  },
  {
   "cell_type": "markdown",
   "metadata": {},
   "source": [
    "## Nginx"
   ]
  },
  {
   "cell_type": "markdown",
   "metadata": {},
   "source": [
    "### Q. Nginx에서 javascript나 이미지파일, css가 안불러와진다"
   ]
  },
  {
   "cell_type": "markdown",
   "metadata": {},
   "source": [
    "A. /etc/nginx/sites-available/default의 sever 내부에 location ~*.확장자로 경로를 지정한다"
   ]
  },
  {
   "cell_type": "code",
   "execution_count": null,
   "metadata": {
    "vscode": {
     "languageId": "plaintext"
    }
   },
   "outputs": [],
   "source": [
    "server_name 43.202.61.123;\n",
    "\n",
    "location / {\n",
    "    root /home/chicken/ChatGPT-DRF-FE/HTML;\n",
    "    index main.html;\n",
    "}\n",
    "\n",
    "location ~* \\.(js|css|gif|png|jpg|jpeg|webp|svg|ico)$ {\n",
    "    root /home/chicken/ChatGPT-DRF-FE;\n",
    "}"
   ]
  },
  {
   "cell_type": "markdown",
   "metadata": {},
   "source": [
    "### Q. 주소 매핑하는법"
   ]
  },
  {
   "cell_type": "markdown",
   "metadata": {},
   "source": [
    "A. location에 주소매핑을 추가하고 root대신 alias로 폴더명을 지정한다."
   ]
  },
  {
   "cell_type": "code",
   "execution_count": null,
   "metadata": {
    "vscode": {
     "languageId": "plaintext"
    }
   },
   "outputs": [],
   "source": [
    "location /accounts/login {\n",
    "    alias /home/chicken/ChatGPT-DRF-FE/HTML;\n",
    "    index login.html;\n",
    "}\n",
    "\n",
    "location /accounts/register {\n",
    "    alias /home/chicken/ChatGPT-DRF-FE/HTML;\n",
    "    index register.html;\n",
    "}\n",
    "\n",
    "location /accounts/logout {\n",
    "    alias /home/chicken/ChatGPT-DRF-FE/HTML;\n",
    "    index logout.html;\n",
    "}\n",
    "\n",
    "location /quiz {\n",
    "    alias /home/chicken/ChatGPT-DRF-FE/HTML;\n",
    "    index quiz.html;\n",
    "}"
   ]
  },
  {
   "cell_type": "markdown",
   "metadata": {},
   "source": [
    "### Q. 403 Forbidden"
   ]
  },
  {
   "cell_type": "markdown",
   "metadata": {},
   "source": [
    "A. 권한 문제이다. 이번에는 가장 위의 사용자폴더의 권한을 755로 변경해주어서 해결했다."
   ]
  },
  {
   "cell_type": "markdown",
   "metadata": {},
   "source": [
    "## JavaScript"
   ]
  },
  {
   "cell_type": "markdown",
   "metadata": {},
   "source": [
    "### Q. Javascript에서 html 임포트하는법"
   ]
  },
  {
   "cell_type": "markdown",
   "metadata": {},
   "source": [
    "A. Javascript를 이용해 임포트했다."
   ]
  },
  {
   "cell_type": "code",
   "execution_count": null,
   "metadata": {
    "vscode": {
     "languageId": "javascript"
    }
   },
   "outputs": [],
   "source": [
    "(function () {\n",
    "    function includeHtml() {\n",
    "        const includeTarget = document.querySelectorAll(\".includeJs\");\n",
    "        includeTarget.forEach(function (el, idx) {\n",
    "            const targetFile = el.dataset.includeFile;\n",
    "            if (targetFile) {\n",
    "                let xhttp = new XMLHttpRequest();\n",
    "\n",
    "                xhttp.onreadystatechange = function () {\n",
    "                    if (this.readyState === XMLHttpRequest.DONE) {\n",
    "                        this.status === 200 ? (el.innerHTML = this.responseText) : null;\n",
    "                        this.status === 404 ? (el.innerHTML = \"include not found.\") : null;\n",
    "                    }\n",
    "                };\n",
    "                xhttp.open(\"GET\", targetFile, true);\n",
    "                xhttp.send();\n",
    "                return;\n",
    "            }\n",
    "        });\n",
    "    }\n",
    "\n",
    "    includeHtml();\n",
    "})();"
   ]
  },
  {
   "cell_type": "markdown",
   "metadata": {},
   "source": [
    "### Q. javascript 여러개를 묶는법"
   ]
  },
  {
   "cell_type": "markdown",
   "metadata": {},
   "source": [
    "A. 이 역시 base javascript를 사용했다."
   ]
  },
  {
   "cell_type": "code",
   "execution_count": null,
   "metadata": {
    "vscode": {
     "languageId": "javascript"
    }
   },
   "outputs": [],
   "source": [
    "const script1 = document.createElement('script');\n",
    "script1.src = '/JavaScript/include.js';\n",
    "document.head.appendChild(script1);\n",
    "\n",
    "const script2 = document.createElement('script');\n",
    "script2.src = '/JavaScript/header.js';\n",
    "document.head.appendChild(script2);\n",
    "\n",
    "const script3 = document.createElement('script');\n",
    "script3.src = '/JavaScript/logout.js';\n",
    "document.head.appendChild(script3);\n",
    "\n",
    "const script4 = document.createElement('script');\n",
    "script4.src = '/JavaScript/token.js';\n",
    "document.head.appendChild(script4);\n"
   ]
  },
  {
   "cell_type": "markdown",
   "metadata": {},
   "source": [
    "### Q. 한 자바스크립트에서 사용한 변수를 다른 자바스크립트에서 충돌하는경우"
   ]
  },
  {
   "cell_type": "markdown",
   "metadata": {},
   "source": [
    "A. 함수로 감싸고 const변수로 지정한 다음에 함수를 실행하는것으로 변수를 휘발시켰다."
   ]
  },
  {
   "cell_type": "markdown",
   "metadata": {},
   "source": [
    "### Q. header를 import했더니 로드 당시에는 헤더가없어서 작동하지 않는 버그"
   ]
  },
  {
   "cell_type": "markdown",
   "metadata": {},
   "source": [
    "A. 일정시간 이후 재싱행함으로서 리로드하는 방법으로 해결했다."
   ]
  },
  {
   "cell_type": "code",
   "execution_count": null,
   "metadata": {
    "vscode": {
     "languageId": "plaintext"
    }
   },
   "outputs": [],
   "source": [
    "맨 처음에는 DOMContentLoaded를 이용해서 하려고했으나, 정상적으로 작동하지않았다.\n",
    "그리고 시간텀을 두지 않고 재시작하니 무한 재시작의 회로에 걸려서 로드하는데 엄청난 렉이 동반되었다.\n",
    "또한 새로고침은 별로 도움이 되지 않았다. 이 역시 렉이걸리고 여러번 걸릴 가능성이 컸다.\n",
    "결국 함수화한다음 재귀의 형태로 일정시간 이후 리로드하는것으로 변경하였다.\n",
    "\n",
    "스크립트 간의 비동기통신 역시 생각해봤지만 한개 문서안에 다 있어야하기떄문에 나눠놓기 원하는 내 목적과는 달라서 반려돠었다."
   ]
  },
  {
   "cell_type": "markdown",
   "metadata": {},
   "source": [
    "## DJango"
   ]
  },
  {
   "cell_type": "markdown",
   "metadata": {},
   "source": [
    "### Q. type object 'UserCreateAPIView' has no attribute 'get_extra_actions'"
   ]
  },
  {
   "cell_type": "markdown",
   "metadata": {},
   "source": [
    "A. router = DefaultRouter() 대신 views.UserCreateAPIView.as_view()로 매핑한다"
   ]
  },
  {
   "cell_type": "markdown",
   "metadata": {},
   "source": [
    "### Q. 비밀번호 해싱 오류"
   ]
  },
  {
   "cell_type": "markdown",
   "metadata": {},
   "source": [
    "A. serializers에서 create함수를 만들어서 password를 바꾸면 된다."
   ]
  },
  {
   "cell_type": "code",
   "execution_count": null,
   "metadata": {},
   "outputs": [],
   "source": [
    "def create(self, validated_data):\n",
    "    '''\n",
    "    직렬화할떄 비밀번호를 해싱하는작업.\n",
    "    '''\n",
    "    user = super().create(validated_data)\n",
    "    user.set_password(validated_data['password'])\n",
    "    user.save()\n",
    "    return user"
   ]
  },
  {
   "cell_type": "markdown",
   "metadata": {},
   "source": [
    "### Q. User 커스텀 클래스에서 related_name를 요구한다"
   ]
  },
  {
   "cell_type": "code",
   "execution_count": null,
   "metadata": {
    "vscode": {
     "languageId": "plaintext"
    }
   },
   "outputs": [],
   "source": [
    "ERRORS:\n",
    "accounts.User.groups: (fields.E304) Reverse accessor 'Group.user_set' for 'accounts.User.groups' clashes with reverse accessor for 'auth.User.groups'.\n",
    "        HINT: Add or change a related_name argument to the definition for 'accounts.User.groups' or 'auth.User.groups'.\n",
    "accounts.User.user_permissions: (fields.E304) Reverse accessor 'Permission.user_set' for 'accounts.User.user_permissions' clashes with reverse accessor for 'auth.User.user_permissions'.\n",
    "        HINT: Add or change a related_name argument to the definition for 'accounts.User.user_permissions' or 'auth.User.user_permissions'.\n",
    "auth.User.groups: (fields.E304) Reverse accessor 'Group.user_set' for 'auth.User.groups' clashes with reverse accessor for 'accounts.User.groups'.\n",
    "        HINT: Add or change a related_name argument to the definition for 'auth.User.groups' or 'accounts.User.groups'.\n",
    "auth.User.user_permissions: (fields.E304) Reverse accessor 'Permission.user_set' for 'auth.User.user_permissions' clashes with reverse accessor for 'accounts.User.user_permissions'.\n",
    "        HINT: Add or change a related_name argument to the definition for 'auth.User.user_permissions' or 'accounts.User.user_permissions'."
   ]
  },
  {
   "cell_type": "markdown",
   "metadata": {},
   "source": [
    "A. 새로 테이블을 만들어서 유저를 왜래키로 설정한다."
   ]
  },
  {
   "cell_type": "code",
   "execution_count": null,
   "metadata": {
    "vscode": {
     "languageId": "plaintext"
    }
   },
   "outputs": [],
   "source": [
    "아마 추측하기로는 settings.py에 이걸 추가하면 해결될 듯 싶다.\n",
    "AUTH_USER_MODEL = 'yourapp.CustomUser'"
   ]
  },
  {
   "cell_type": "code",
   "execution_count": null,
   "metadata": {},
   "outputs": [],
   "source": []
  }
 ],
 "metadata": {
  "language_info": {
   "name": "python"
  }
 },
 "nbformat": 4,
 "nbformat_minor": 2
}
